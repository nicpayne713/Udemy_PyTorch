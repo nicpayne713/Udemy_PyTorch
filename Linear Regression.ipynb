{
 "cells": [
  {
   "cell_type": "code",
   "execution_count": 2,
   "metadata": {
    "collapsed": true
   },
   "outputs": [],
   "source": [
    "x_values = [i for i in range(11)]"
   ]
  },
  {
   "cell_type": "code",
   "execution_count": 3,
   "metadata": {},
   "outputs": [
    {
     "name": "stdout",
     "output_type": "stream",
     "text": [
      "[0, 1, 2, 3, 4, 5, 6, 7, 8, 9, 10]\n"
     ]
    }
   ],
   "source": [
    "print(x_values)"
   ]
  },
  {
   "cell_type": "code",
   "execution_count": 5,
   "metadata": {},
   "outputs": [],
   "source": [
    "import numpy as np\n",
    "import torch\n",
    "import matplotlib.pyplot as plt"
   ]
  },
  {
   "cell_type": "code",
   "execution_count": 6,
   "metadata": {},
   "outputs": [
    {
     "data": {
      "text/plain": [
       "(11,)"
      ]
     },
     "execution_count": 12,
     "metadata": {},
     "output_type": "execute_result"
    },
    {
     "data": {
      "text/plain": [
       "(11,)"
      ]
     },
     "execution_count": 6,
     "metadata": {},
     "output_type": "execute_result"
    }
   ],
   "source": [
    "# Convert to numpy\n",
    "x_train = np.array(x_values, dtype=np.float32)\n",
    "x_train.shape"
   ]
  },
  {
   "cell_type": "code",
   "execution_count": 7,
   "metadata": {},
   "outputs": [],
   "source": [
    "y_values = [2*i + 1 for i in x_values]"
   ]
  },
  {
   "cell_type": "code",
   "execution_count": 8,
   "metadata": {},
   "outputs": [
    {
     "data": {
      "text/plain": [
       "[1, 3, 5, 7, 9, 11, 13, 15, 17, 19, 21]"
      ]
     },
     "execution_count": 8,
     "metadata": {},
     "output_type": "execute_result"
    }
   ],
   "source": [
    "y_values"
   ]
  },
  {
   "cell_type": "code",
   "execution_count": 9,
   "metadata": {},
   "outputs": [
    {
     "data": {
      "image/png": "[encoded data removed]",
      "text/plain": [
       "<matplotlib.figure.Figure at 0x7fb041fc6b70>"
      ]
     },
     "metadata": {},
     "output_type": "display_data"
    }
   ],
   "source": [
    "plt.plot(x_values, y_values)\n",
    "plt.show()"
   ]
  },
  {
   "cell_type": "code",
   "execution_count": 10,
   "metadata": {},
   "outputs": [],
   "source": [
    "y_train = np.array(y_values, dtype=np.float32)"
   ]
  },
  {
   "cell_type": "code",
   "execution_count": 27,
   "metadata": {},
   "outputs": [
    {
     "data": {
      "text/plain": [
       "(11, 1)"
      ]
     },
     "execution_count": 27,
     "metadata": {},
     "output_type": "execute_result"
    }
   ],
   "source": [
    "y_train = y_train.reshape(-1, 1)\n",
    "y_train.shape"
   ]
  },
  {
   "cell_type": "code",
   "execution_count": 53,
   "metadata": {},
   "outputs": [],
   "source": [
    "import torch.nn as nn\n",
    "from torch.autograd import Variable as Variable"
   ]
  },
  {
   "cell_type": "code",
   "execution_count": 13,
   "metadata": {},
   "outputs": [],
   "source": [
    "# create class\n",
    "class LinearRegressionModel(nn.Module):\n",
    "    def __init__(self, input_size, output_size):\n",
    "        super(LinearRegressionModel, self).__init__()\n",
    "        self.linear = nn.Linear(input_dim, output_dim)\n",
    "        \n",
    "    def forward(self, x):\n",
    "        out = self.linear(x)\n",
    "        return out\n"
   ]
  },
  {
   "cell_type": "code",
   "execution_count": 14,
   "metadata": {},
   "outputs": [],
   "source": [
    "input_dim = 1\n",
    "output_dim = 1\n",
    "model = LinearRegressionModel(input_dim, output_dim)"
   ]
  },
  {
   "cell_type": "code",
   "execution_count": 21,
   "metadata": {},
   "outputs": [],
   "source": [
    "criterion = nn.MSELoss()"
   ]
  },
  {
   "cell_type": "code",
   "execution_count": 20,
   "metadata": {},
   "outputs": [],
   "source": [
    "learning_rate = 0.01\n",
    "optimizer = torch.optim.SGD(model.parameters(), lr=learning_rate)"
   ]
  },
  {
   "cell_type": "code",
   "execution_count": 30,
   "metadata": {},
   "outputs": [
    {
     "data": {
      "text/plain": [
       "(11, 1)"
      ]
     },
     "execution_count": 30,
     "metadata": {},
     "output_type": "execute_result"
    }
   ],
   "source": [
    "model.parameters()\n",
    "x_train = x_train.reshape(-1, 1)\n",
    "x_train.shape"
   ]
  },
  {
   "cell_type": "code",
   "execution_count": 31,
   "metadata": {},
   "outputs": [],
   "source": [
    "epochs = 100"
   ]
  },
  {
   "cell_type": "code",
   "execution_count": 54,
   "metadata": {},
   "outputs": [
    {
     "name": "stdout",
     "output_type": "stream",
     "text": [
      "epoch 1, loss 0.020232712849974632\nepoch 2, loss 0.02000678889453411\nepoch 3, loss 0.01978338323533535\nepoch 4, loss 0.019562406465411186\nepoch 5, loss 0.019343944266438484\nepoch 6, loss 0.01912795752286911\nepoch 7, loss 0.018914423882961273\nepoch 8, loss 0.018703175708651543\nepoch 9, loss 0.018494322896003723\nepoch 10, loss 0.01828780025243759\nepoch 11, loss 0.018083520233631134\nepoch 12, loss 0.017881646752357483\nepoch 13, loss 0.017681939527392387\nepoch 14, loss 0.017484456300735474\nepoch 15, loss 0.01728922687470913\nepoch 16, loss 0.017096249386668205\nepoch 17, loss 0.016905300319194794\nepoch 18, loss 0.016716526821255684\nepoch 19, loss 0.0165298730134964\nepoch 20, loss 0.016345294192433357\nepoch 21, loss 0.016162728890776634\nepoch 22, loss 0.015982260927557945\nepoch 23, loss 0.015803784132003784\nepoch 24, loss 0.015627257525920868\nepoch 25, loss 0.015452802181243896\nepoch 26, loss 0.01528016384691\nepoch 27, loss 0.015109567902982235\nepoch 28, loss 0.01494082435965538\nepoch 29, loss 0.014774060808122158\nepoch 30, loss 0.014609050936996937\nepoch 31, loss 0.014445954002439976\nepoch 32, loss 0.01428461167961359\nepoch 33, loss 0.014125067740678787\nepoch 34, loss 0.013967335224151611\nepoch 35, loss 0.01381139550358057\nepoch 36, loss 0.013657155446708202\nepoch 37, loss 0.013504636473953724\nepoch 38, loss 0.013353846035897732\nepoch 39, loss 0.01320472452789545\nepoch 40, loss 0.01305726170539856\nepoch 41, loss 0.012911452911794186\nepoch 42, loss 0.012767252512276173\nepoch 43, loss 0.012624732218682766\nepoch 44, loss 0.012483756989240646\nepoch 45, loss 0.012344295158982277\nepoch 46, loss 0.01220643613487482\nepoch 47, loss 0.012070149183273315\nepoch 48, loss 0.011935346759855747\nepoch 49, loss 0.011802070774137974\nepoch 50, loss 0.011670290492475033\nepoch 51, loss 0.011539984494447708\nepoch 52, loss 0.01141111459583044\nepoch 53, loss 0.01128370314836502\nepoch 54, loss 0.011157662607729435\nepoch 55, loss 0.01103308703750372\nepoch 56, loss 0.010909887962043285\nepoch 57, loss 0.01078802440315485\nepoch 58, loss 0.010667610913515091\nepoch 59, loss 0.010548444464802742\nepoch 60, loss 0.010430670343339443\nepoch 61, loss 0.010314191691577435\nepoch 62, loss 0.010199005715548992\nepoch 63, loss 0.010085133835673332\nepoch 64, loss 0.00997253879904747\nepoch 65, loss 0.009861146099865437\nepoch 66, loss 0.009750998578965664\nepoch 67, loss 0.009642159566283226\nepoch 68, loss 0.009534507989883423\nepoch 69, loss 0.009427993558347225\nepoch 70, loss 0.009322724305093288\nepoch 71, loss 0.009218583814799786\nepoch 72, loss 0.009115693159401417\nepoch 73, loss 0.009013881906867027\nepoch 74, loss 0.008913218975067139\nepoch 75, loss 0.008813745342195034\nepoch 76, loss 0.008715278469026089\nepoch 77, loss 0.008617977611720562\nepoch 78, loss 0.008521756157279015\nepoch 79, loss 0.008426605723798275\nepoch 80, loss 0.008332502096891403\nepoch 81, loss 0.008239408023655415\nepoch 82, loss 0.008147391490638256\nepoch 83, loss 0.008056432008743286\nepoch 84, loss 0.00796646997332573\nepoch 85, loss 0.007877512834966183\nepoch 86, loss 0.007789556868374348\nepoch 87, loss 0.007702554576098919\nepoch 88, loss 0.007616529241204262\nepoch 89, loss 0.007531454786658287\nepoch 90, loss 0.007447393145412207\nepoch 91, loss 0.007364197168499231\nepoch 92, loss 0.007281971164047718\nepoch 93, loss 0.0072006480768322945\nepoch 94, loss 0.0071202549152076244\nepoch 95, loss 0.007040716242045164\nepoch 96, loss 0.006962111219763756\nepoch 97, loss 0.006884366739541292\nepoch 98, loss 0.006807506084442139\nepoch 99, loss 0.006731468252837658\nepoch 100, loss 0.006656263954937458\n"
     ]
    }
   ],
   "source": [
    "for epoch in range(epochs):\n",
    "    epoch += 1\n",
    "    # Convert numpy array to torch Variable\n",
    "    inputs = Variable(torch.from_numpy(x_train))\n",
    "    labels = Variable(torch.from_numpy(y_train))\n",
    "    \n",
    "    # Clear gradients wrt parameters\n",
    "    optimizer.zero_grad()\n",
    "    \n",
    "    # Forward to get output\n",
    "    outputs = model(inputs)\n",
    "    \n",
    "    # Calculate Loss\n",
    "    loss = criterion(outputs, labels)\n",
    "    \n",
    "    # getting gradients wrt parameters\n",
    "    loss.backward()\n",
    "    \n",
    "    # Updating parameters\n",
    "    optimizer.step()\n",
    "    st = loss.data[0]\n",
    "    print(f'epoch {epoch}, loss {st}')"
   ]
  },
  {
   "cell_type": "code",
   "execution_count": 55,
   "metadata": {},
   "outputs": [
    {
     "data": {
      "text/plain": [
       "array([[ 0.84823316],\n       [ 2.870089  ],\n       [ 4.891945  ],\n       [ 6.9138007 ],\n       [ 8.935657  ],\n       [10.957513  ],\n       [12.979368  ],\n       [15.001224  ],\n       [17.023079  ],\n       [19.044935  ],\n       [21.066792  ]], dtype=float32)"
      ]
     },
     "execution_count": 55,
     "metadata": {},
     "output_type": "execute_result"
    }
   ],
   "source": [
    "# Purely inference\n",
    "predicted = model(Variable(torch.from_numpy(x_train))).data.numpy()\n",
    "predicted"
   ]
  },
  {
   "cell_type": "code",
   "execution_count": 56,
   "metadata": {},
   "outputs": [
    {
     "data": {
      "text/plain": [
       "array([[ 1.],\n       [ 3.],\n       [ 5.],\n       [ 7.],\n       [ 9.],\n       [11.],\n       [13.],\n       [15.],\n       [17.],\n       [19.],\n       [21.]], dtype=float32)"
      ]
     },
     "execution_count": 56,
     "metadata": {},
     "output_type": "execute_result"
    }
   ],
   "source": [
    "y_train"
   ]
  },
  {
   "cell_type": "code",
   "execution_count": 58,
   "metadata": {},
   "outputs": [
    {
     "data": {
      "text/plain": [
       "0.067220345"
      ]
     },
     "execution_count": 58,
     "metadata": {},
     "output_type": "execute_result"
    }
   ],
   "source": [
    "avg_error = np.mean(abs(y_train - predicted))\n",
    "avg_error"
   ]
  },
  {
   "cell_type": "code",
   "execution_count": 60,
   "metadata": {},
   "outputs": [
    {
     "data": {
      "image/png": "[encoded data removed]",
      "text/plain": [
       "<matplotlib.figure.Figure at 0x7fb03ec61c88>"
      ]
     },
     "metadata": {},
     "output_type": "display_data"
    }
   ],
   "source": [
    "plt.clf()\n",
    "\n",
    "plt.plot(x_train, y_train, 'go', label='true data', alpha=0.5)\n",
    "plt.plot(x_train, predicted, '--',label='predictions',alpha=0.5)\n",
    "plt.legend(loc='best')\n",
    "plt.show()"
   ]
  },
  {
   "cell_type": "code",
   "execution_count": 61,
   "metadata": {},
   "outputs": [],
   "source": [
    "save_model = False\n",
    "if save_model is True:\n",
    "    torch.save(model.state_dict(), 'awesome_model.pkl')"
   ]
  },
  {
   "cell_type": "code",
   "execution_count": 62,
   "metadata": {},
   "outputs": [],
   "source": [
    "load_model = False\n",
    "if load_model is True:\n",
    "    model.load_state_dict(torch.load('awesome_model.pkl'))"
   ]
  },
  {
   "cell_type": "code",
   "execution_count": null,
   "metadata": {},
   "outputs": [],
   "source": []
  }
 ],
 "metadata": {
  "kernelspec": {
   "display_name": "Python 2",
   "language": "python",
   "name": "python2"
  },
  "language_info": {
   "codemirror_mode": {
    "name": "ipython",
    "version": 2
   },
   "file_extension": ".py",
   "mimetype": "text/x-python",
   "name": "python",
   "nbconvert_exporter": "python",
   "pygments_lexer": "ipython2",
   "version": "2.7.6"
  }
 },
 "nbformat": 4,
 "nbformat_minor": 0
}
